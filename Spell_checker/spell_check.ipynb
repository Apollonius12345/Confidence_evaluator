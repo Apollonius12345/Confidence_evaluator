{
 "cells": [
  {
   "cell_type": "code",
   "execution_count": 1,
   "id": "bacd7177",
   "metadata": {},
   "outputs": [],
   "source": [
    "import re\n",
    "import tkinter as tk\n",
    "from tkinter.scrolledtext import ScrolledText"
   ]
  },
  {
   "cell_type": "code",
   "execution_count": 2,
   "id": "506fdea0",
   "metadata": {},
   "outputs": [],
   "source": [
    "import nltk\n",
    "from nltk.corpus import words"
   ]
  },
  {
   "cell_type": "code",
   "execution_count": 3,
   "id": "d0415730",
   "metadata": {},
   "outputs": [
    {
     "name": "stderr",
     "output_type": "stream",
     "text": [
      "[nltk_data] Error loading words: <urlopen error [WinError 10060] A\n",
      "[nltk_data]     connection attempt failed because the connected party\n",
      "[nltk_data]     did not properly respond after a period of time, or\n",
      "[nltk_data]     established connection failed because connected host\n",
      "[nltk_data]     has failed to respond>\n"
     ]
    },
    {
     "data": {
      "text/plain": [
       "False"
      ]
     },
     "execution_count": 3,
     "metadata": {},
     "output_type": "execute_result"
    }
   ],
   "source": [
    "nltk.download(\"words\")"
   ]
  },
  {
   "cell_type": "code",
   "execution_count": 4,
   "id": "49b26aa9",
   "metadata": {},
   "outputs": [
    {
     "data": {
      "text/plain": [
       "<__main__.spellchecker at 0x236a01d9cd0>"
      ]
     },
     "execution_count": 4,
     "metadata": {},
     "output_type": "execute_result"
    }
   ],
   "source": [
    "class spellchecker:\n",
    "    def __init__(self):\n",
    "        self.root = tk.Tk()\n",
    "        self.root.geometry(\"600x500\")\n",
    "        \n",
    "        self.text = ScrolledText(self.root, font = (\"Arial\", 14))\n",
    "        self.text.bind(\"<KeyRelease>\", self.check)\n",
    "        self.text.pack()\n",
    "    \n",
    "        self.old_spaces = 0\n",
    "        \n",
    "        self.root.mainloop()\n",
    "        \n",
    "    def check(self, event):\n",
    "        content = self.text.get(\"1.0\", tk.END)\n",
    "        space_count = content.count(\" \")\n",
    "        \n",
    "        for tag in self.text.tag_names():\n",
    "            self.text.tag_delete(tag)\n",
    "        \n",
    "        if space_count != self.old_spaces:\n",
    "            self.old_spaces = space_count\n",
    "            for word in content.split(\" \"):\n",
    "                if re.sub(r\"[^\\w]\", \"\", word.lower()) not in words.words():\n",
    "                    position  = content.find(word)\n",
    "                    self.text.tag_add(word, f\"1.{position}\", f\"1.{position + len(word)}\")\n",
    "                    self.text.tag_config(word, foreground = \"red\")\n",
    "spellchecker()"
   ]
  },
  {
   "cell_type": "code",
   "execution_count": null,
   "id": "c26799bc",
   "metadata": {},
   "outputs": [],
   "source": []
  },
  {
   "cell_type": "code",
   "execution_count": null,
   "id": "a049a8c3",
   "metadata": {},
   "outputs": [],
   "source": []
  }
 ],
 "metadata": {
  "kernelspec": {
   "display_name": "Python 3 (ipykernel)",
   "language": "python",
   "name": "python3"
  },
  "language_info": {
   "codemirror_mode": {
    "name": "ipython",
    "version": 3
   },
   "file_extension": ".py",
   "mimetype": "text/x-python",
   "name": "python",
   "nbconvert_exporter": "python",
   "pygments_lexer": "ipython3",
   "version": "3.11.1"
  }
 },
 "nbformat": 4,
 "nbformat_minor": 5
}
