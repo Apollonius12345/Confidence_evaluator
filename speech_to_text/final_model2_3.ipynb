{
 "cells": [
  {
   "cell_type": "code",
   "execution_count": 2,
   "id": "5e8fbec8",
   "metadata": {},
   "outputs": [
    {
     "name": "stdout",
     "output_type": "stream",
     "text": [
      "RECORDING HAS BEGUN...\n",
      "RECORDING ENDED...\n"
     ]
    }
   ],
   "source": [
    "import os\n",
    "import wave\n",
    "import pyaudio\n",
    "\n",
    "CHUNK = 1024  \n",
    "FORMAT = pyaudio.paInt16  \n",
    "CHANNELS = 1  \n",
    "RATE = 44100  \n",
    "RECORD_SECONDS = 60  #KITNA TIME RECORD KARNA HAI\n",
    "\n",
    "# Create a PyAudio object\n",
    "audio = pyaudio.PyAudio()\n",
    "\n",
    "# Open audio stream for recording\n",
    "stream = audio.open(format=FORMAT, channels=CHANNELS,\n",
    "                    rate=RATE, input=True,\n",
    "                    frames_per_buffer=CHUNK)\n",
    "\n",
    "\n",
    "print(\"RECORDING HAS BEGUN...\")\n",
    "frames = []\n",
    "for i in range(0, int(RATE / CHUNK * RECORD_SECONDS)):\n",
    "    data = stream.read(CHUNK)\n",
    "    frames.append(data)\n",
    "\n",
    "# Stop recording\n",
    "print(\"RECORDING ENDED...\")\n",
    "\n",
    "# Save the recorded audio to file\n",
    "filename = 'audio.wav'\n",
    "filepath = os.path.join('C:/College Material/ML/Aries Project/stt', filename)\n",
    "wf = wave.open(filepath, 'wb')\n",
    "wf.setnchannels(CHANNELS)\n",
    "wf.setsampwidth(audio.get_sample_size(FORMAT))\n",
    "wf.setframerate(RATE)\n",
    "wf.writeframes(b''.join(frames))\n",
    "wf.close()\n",
    "\n",
    "# Close the audio stream and PyAudio object\n",
    "stream.stop_stream()\n",
    "stream.close()\n",
    "audio.terminate()"
   ]
  },
  {
   "cell_type": "code",
   "execution_count": null,
   "id": "81e712a2",
   "metadata": {},
   "outputs": [],
   "source": [
    "# \"The Alchemist\" is a small yet powerful work of literature that captivates readers\n",
    "# with its enchanting storytelling and profound insights about following one's dreams. It tells\n",
    "# the tale of a young shepherd named Santiago who embarks on a journey in search of his personal\n",
    "# legend, encountering a series of spiritual and transformative experiences along the way. Through\n",
    "# Santiago's quest, the book explores themes of destiny, self-discovery, and the importance of listening\n",
    "# to the heart's desires. With its lyrical prose and thought-provoking messages, \"The Alchemist\" is a \n",
    "# timeless gem that inspires readers to pursue their dreams and find meaning in the journey of life."
   ]
  },
  {
   "cell_type": "code",
   "execution_count": 3,
   "id": "2778112f",
   "metadata": {},
   "outputs": [
    {
     "name": "stdout",
     "output_type": "stream",
     "text": [
      "Text:  The Alchemist is a small yet powerful work of literature that captivates readers with it and counting storytelling and profound insights about the following one reads it tells the tale of a young Shepherd name Centre NGO who embarks on a journey in a search of his personal legend and counting the series of spiritual and transformative experiences along the way through the book explores themes of destiny the discovery and importance of listening to the heart's Desire with its lyrical pros and for promoting messages The Alchemist is a timeless gym that inspire us readers to pursue their dreams and find the meanings in their journey of life\n"
     ]
    }
   ],
   "source": [
    "import speech_recognition as sr\n",
    "\n",
    "# initialize the recognizer\n",
    "r = sr.Recognizer()\n",
    "\n",
    "# specify the path to the audio file\n",
    "audio_file = \"C:/College Material/ML/Aries Project/stt/audio.wav\"\n",
    "\n",
    "# open the audio file using the recognizer\n",
    "with sr.AudioFile(audio_file) as source:\n",
    "    # read the audio data\n",
    "    audio_data = r.record(source)\n",
    "    \n",
    "    # recognize speech using Google Speech Recognition\n",
    "    text = r.recognize_google(audio_data)\n",
    "\n",
    "# print the recognized text\n",
    "print(\"Text: \", text)"
   ]
  },
  {
   "cell_type": "code",
   "execution_count": null,
   "id": "31b01d66",
   "metadata": {},
   "outputs": [],
   "source": [
    "# import re\n",
    "# import tkinter as tk\n",
    "# from tkinter.scrolledtext import ScrolledText\n",
    "# import nltk\n",
    "# from nltk.corpus import words\n",
    "# # nltk.download(\"words\")\n",
    "\n",
    "# class spellchecker:\n",
    "#     def __init__(self, text):\n",
    "#         self.root = tk.Tk()\n",
    "#         self.root.geometry(\"600x500\")\n",
    "        \n",
    "#         self.text = ScrolledText(self.root, font = (\"Arial\", 14))\n",
    "#         self.text.insert(tk.INSERT, text)\n",
    "#         self.text.tag_configure(\"misspelled\", foreground=\"red\")\n",
    "#         self.check()\n",
    "#         self.text.pack()\n",
    "        \n",
    "#         self.root.mainloop()\n",
    "        \n",
    "#     def check(self):\n",
    "#         content = self.text.get(\"1.0\", tk.END)\n",
    "#         for word in re.findall(r'\\w+', content):\n",
    "#             if word.lower() not in words.words():\n",
    "#                 start = \"1.\" + str(content.index(word))\n",
    "#                 end = \"1.\" + str(content.index(word) + len(word))\n",
    "#                 self.text.tag_add(\"misspelled\", start, end)\n",
    "        \n",
    "# spellchecker(text)"
   ]
  },
  {
   "cell_type": "code",
   "execution_count": null,
   "id": "af258a26",
   "metadata": {},
   "outputs": [],
   "source": [
    "# import tkinter as tk\n",
    "# from tkinter.scrolledtext import ScrolledText\n",
    "# from nltk.corpus import words\n",
    "\n",
    "# class SpellChecker:\n",
    "#     def __init__(self, text):\n",
    "#         self.root = tk.Tk()\n",
    "#         self.root.geometry(\"600x500\")\n",
    "#         self.text = ScrolledText(self.root, font=(\"Arial\", 14))\n",
    "#         self.text.insert(tk.INSERT, text)\n",
    "#         self.text.pack()\n",
    "#         self.check_spelling()\n",
    "#         self.root.mainloop()\n",
    "\n",
    "#     def check_spelling(self):\n",
    "#         content = self.text.get(\"1.0\", tk.END)\n",
    "#         word_list = set(words.words())\n",
    "#         for word in content.split():\n",
    "#             if word.lower() not in word_list:\n",
    "#                 start = self.text.search(word, \"1.0\", tk.END)\n",
    "#                 end = f\"{start}+{len(word)}c\"\n",
    "#                 self.text.tag_add(\"misspelled\", start, end)\n",
    "\n",
    "# if __name__ == \"__main__\":\n",
    "#     spell_checker = SpellChecker(text)\n"
   ]
  },
  {
   "cell_type": "code",
   "execution_count": 4,
   "id": "4ffa0628",
   "metadata": {},
   "outputs": [
    {
     "name": "stdout",
     "output_type": "stream",
     "text": [
      "Misspelled words:\n",
      "['Centre', 'NGO', 'transformative']\n",
      "Speaker's efficiency:  99.53488372093024\n"
     ]
    }
   ],
   "source": [
    "import enchant\n",
    "\n",
    "class SpellChecker:\n",
    "    def __init__(self):\n",
    "        self.dict = enchant.Dict(\"en_US\")\n",
    "\n",
    "    def check_spelling(self, text):\n",
    "        words = text.split()\n",
    "        misspelled_words = []\n",
    "        for word in words:\n",
    "            if not self.dict.check(word):\n",
    "                misspelled_words.append(word)\n",
    "        return misspelled_words\n",
    "\n",
    "spell_checker = SpellChecker()\n",
    "misspelled_words = spell_checker.check_spelling(text)\n",
    "if len(misspelled_words) > 0:\n",
    "    print(\"Misspelled words:\")\n",
    "    print(misspelled_words)\n",
    "else:\n",
    "    print(\"No misspelled words found.\")\n",
    "\n",
    "print(\"Speaker's efficiency: \",100-(len(misspelled_words)*100/len(text)))"
   ]
  },
  {
   "cell_type": "code",
   "execution_count": 5,
   "id": "bfa7fb95",
   "metadata": {},
   "outputs": [
    {
     "name": "stdout",
     "output_type": "stream",
     "text": [
      "The file has been deleted successfully!!\n"
     ]
    }
   ],
   "source": [
    "file_path = \"C:/College Material/ML/Aries Project/stt/audio.wav\"\n",
    "\n",
    "if os.path.exists(file_path):\n",
    "    os.remove(file_path)\n",
    "    print(\"The file has been deleted successfully!!\")\n",
    "else:\n",
    "    print(\"The file does not exist!!\")"
   ]
  },
  {
   "cell_type": "code",
   "execution_count": null,
   "id": "e459787a",
   "metadata": {},
   "outputs": [],
   "source": []
  }
 ],
 "metadata": {
  "kernelspec": {
   "display_name": "Python 3 (ipykernel)",
   "language": "python",
   "name": "python3"
  },
  "language_info": {
   "codemirror_mode": {
    "name": "ipython",
    "version": 3
   },
   "file_extension": ".py",
   "mimetype": "text/x-python",
   "name": "python",
   "nbconvert_exporter": "python",
   "pygments_lexer": "ipython3",
   "version": "3.11.1"
  }
 },
 "nbformat": 4,
 "nbformat_minor": 5
}
